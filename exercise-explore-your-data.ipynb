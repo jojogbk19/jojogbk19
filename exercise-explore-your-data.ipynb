{
 "cells": [
  {
   "cell_type": "markdown",
   "id": "8680bc3d",
   "metadata": {
    "papermill": {
     "duration": 0.003403,
     "end_time": "2025-07-13T00:24:43.221053",
     "exception": false,
     "start_time": "2025-07-13T00:24:43.217650",
     "status": "completed"
    },
    "tags": []
   },
   "source": [
    "This exercise will test your ability to read a data file and understand statistics about the data.\n",
    "\n",
    "In later exercises, you will apply techniques to filter the data, build a machine learning model, and iteratively improve your model.\n",
    "\n",
    "The course examples use data from Melbourne. To ensure you can apply these techniques on your own, you will have to apply them to a new dataset (with house prices from Iowa).\n",
    "\n",
    "The exercises use a \"notebook\" coding environment.  In case you are unfamiliar with notebooks, we have a [90-second intro video](https://www.youtube.com/watch?v=4C2qMnaIKL4).\n",
    "\n",
    "# Exercises\n",
    "\n",
    "Run the following cell to set up code-checking, which will verify your work as you go."
   ]
  },
  {
   "cell_type": "markdown",
   "id": "0227b988",
   "metadata": {
    "papermill": {
     "duration": 0.002506,
     "end_time": "2025-07-13T00:24:43.226827",
     "exception": false,
     "start_time": "2025-07-13T00:24:43.224321",
     "status": "completed"
    },
    "tags": []
   },
   "source": []
  },
  {
   "cell_type": "markdown",
   "id": "4728f576",
   "metadata": {
    "papermill": {
     "duration": 0.002466,
     "end_time": "2025-07-13T00:24:43.232645",
     "exception": false,
     "start_time": "2025-07-13T00:24:43.230179",
     "status": "completed"
    },
    "tags": []
   },
   "source": []
  },
  {
   "cell_type": "code",
   "execution_count": 1,
   "id": "e147305c",
   "metadata": {
    "execution": {
     "iopub.execute_input": "2025-07-13T00:24:43.239371Z",
     "iopub.status.busy": "2025-07-13T00:24:43.239030Z",
     "iopub.status.idle": "2025-07-13T00:24:45.232348Z",
     "shell.execute_reply": "2025-07-13T00:24:45.231195Z"
    },
    "papermill": {
     "duration": 1.998635,
     "end_time": "2025-07-13T00:24:45.234012",
     "exception": false,
     "start_time": "2025-07-13T00:24:43.235377",
     "status": "completed"
    },
    "tags": []
   },
   "outputs": [
    {
     "name": "stdout",
     "output_type": "stream",
     "text": [
      "Setup Complete\n"
     ]
    }
   ],
   "source": [
    "# Set up code checking\n",
    "from learntools.core import binder\n",
    "binder.bind(globals())\n",
    "from learntools.machine_learning.ex2 import *\n",
    "print(\"Setup Complete\")"
   ]
  },
  {
   "cell_type": "markdown",
   "id": "81d28f87",
   "metadata": {
    "papermill": {
     "duration": 0.002644,
     "end_time": "2025-07-13T00:24:45.239743",
     "exception": false,
     "start_time": "2025-07-13T00:24:45.237099",
     "status": "completed"
    },
    "tags": []
   },
   "source": [
    "## Step 1: Loading Data\n",
    "Read the Iowa data file into a Pandas DataFrame called `home_data`."
   ]
  },
  {
   "cell_type": "code",
   "execution_count": 2,
   "id": "6788ab5f",
   "metadata": {
    "execution": {
     "iopub.execute_input": "2025-07-13T00:24:45.247042Z",
     "iopub.status.busy": "2025-07-13T00:24:45.246211Z",
     "iopub.status.idle": "2025-07-13T00:24:45.255094Z",
     "shell.execute_reply": "2025-07-13T00:24:45.254227Z"
    },
    "papermill": {
     "duration": 0.014056,
     "end_time": "2025-07-13T00:24:45.256528",
     "exception": false,
     "start_time": "2025-07-13T00:24:45.242472",
     "status": "completed"
    },
    "tags": []
   },
   "outputs": [
    {
     "data": {
      "application/javascript": [
       "parent.postMessage({\"jupyterEvent\": \"custom.exercise_interaction\", \"data\": {\"outcomeType\": 4, \"interactionType\": 1, \"questionType\": 1, \"questionId\": \"1_LoadHomeData\", \"learnToolsVersion\": \"0.3.5\", \"valueTowardsCompletion\": 0.0, \"failureMessage\": \"\", \"exceptionClass\": \"\", \"trace\": \"\"}}, \"*\")"
      ],
      "text/plain": [
       "<IPython.core.display.Javascript object>"
      ]
     },
     "metadata": {},
     "output_type": "display_data"
    },
    {
     "data": {
      "text/markdown": [
       "<span style=\"color:#ccaa33\">Check:</span> When you've updated the starter code, `check()` will tell you whether your code is correct. You need to update the code that creates variable `home_data`"
      ],
      "text/plain": [
       "Check: When you've updated the starter code, `check()` will tell you whether your code is correct. You need to update the code that creates variable `home_data`"
      ]
     },
     "metadata": {},
     "output_type": "display_data"
    }
   ],
   "source": [
    "import pandas as pd\n",
    "\n",
    "# Path of the file to read\n",
    "iowa_file_path = '../input/home-data-for-ml-course/train.csv'\n",
    "\n",
    "# Fill in the line below to read the file into a variable home_data\n",
    "home_data = ____\n",
    "\n",
    "# Call line below with no argument to check that you've loaded the data correctly\n",
    "step_1.check()"
   ]
  },
  {
   "cell_type": "code",
   "execution_count": 3,
   "id": "91a1c3e5",
   "metadata": {
    "execution": {
     "iopub.execute_input": "2025-07-13T00:24:45.264455Z",
     "iopub.status.busy": "2025-07-13T00:24:45.264109Z",
     "iopub.status.idle": "2025-07-13T00:24:45.268702Z",
     "shell.execute_reply": "2025-07-13T00:24:45.267403Z"
    },
    "papermill": {
     "duration": 0.010656,
     "end_time": "2025-07-13T00:24:45.270699",
     "exception": false,
     "start_time": "2025-07-13T00:24:45.260043",
     "status": "completed"
    },
    "tags": []
   },
   "outputs": [],
   "source": [
    "# Lines below will give you a hint or solution code\n",
    "#step_1.hint()\n",
    "#step_1.solution()"
   ]
  },
  {
   "cell_type": "markdown",
   "id": "95896859",
   "metadata": {
    "papermill": {
     "duration": 0.002928,
     "end_time": "2025-07-13T00:24:45.276957",
     "exception": false,
     "start_time": "2025-07-13T00:24:45.274029",
     "status": "completed"
    },
    "tags": []
   },
   "source": [
    "## Step 2: Review The Data\n",
    "Use the command you learned to view summary statistics of the data. Then fill in variables to answer the following questions"
   ]
  },
  {
   "cell_type": "code",
   "execution_count": 4,
   "id": "1f16ecfb",
   "metadata": {
    "execution": {
     "iopub.execute_input": "2025-07-13T00:24:45.284227Z",
     "iopub.status.busy": "2025-07-13T00:24:45.283922Z",
     "iopub.status.idle": "2025-07-13T00:24:45.289650Z",
     "shell.execute_reply": "2025-07-13T00:24:45.288712Z"
    },
    "papermill": {
     "duration": 0.011112,
     "end_time": "2025-07-13T00:24:45.291129",
     "exception": false,
     "start_time": "2025-07-13T00:24:45.280017",
     "status": "completed"
    },
    "tags": []
   },
   "outputs": [
    {
     "data": {
      "text/markdown": [],
      "text/plain": [
       "<learntools.core.constants.PlaceholderValue at 0x7e853864ff10>"
      ]
     },
     "execution_count": 4,
     "metadata": {},
     "output_type": "execute_result"
    }
   ],
   "source": [
    "# Print summary statistics in next line\n",
    "____"
   ]
  },
  {
   "cell_type": "code",
   "execution_count": 5,
   "id": "2b7b0762",
   "metadata": {
    "execution": {
     "iopub.execute_input": "2025-07-13T00:24:45.299015Z",
     "iopub.status.busy": "2025-07-13T00:24:45.298704Z",
     "iopub.status.idle": "2025-07-13T00:24:45.306057Z",
     "shell.execute_reply": "2025-07-13T00:24:45.305251Z"
    },
    "papermill": {
     "duration": 0.013641,
     "end_time": "2025-07-13T00:24:45.308135",
     "exception": false,
     "start_time": "2025-07-13T00:24:45.294494",
     "status": "completed"
    },
    "tags": []
   },
   "outputs": [
    {
     "data": {
      "application/javascript": [
       "parent.postMessage({\"jupyterEvent\": \"custom.exercise_interaction\", \"data\": {\"outcomeType\": 4, \"interactionType\": 1, \"questionType\": 1, \"questionId\": \"2_HomeDescription\", \"learnToolsVersion\": \"0.3.5\", \"valueTowardsCompletion\": 0.0, \"failureMessage\": \"\", \"exceptionClass\": \"\", \"trace\": \"\"}}, \"*\")"
      ],
      "text/plain": [
       "<IPython.core.display.Javascript object>"
      ]
     },
     "metadata": {},
     "output_type": "display_data"
    },
    {
     "data": {
      "text/markdown": [
       "<span style=\"color:#ccaa33\">Check:</span> When you've updated the starter code, `check()` will tell you whether your code is correct. You need to update the code that creates variables `avg_lot_size`, `newest_home_age`"
      ],
      "text/plain": [
       "Check: When you've updated the starter code, `check()` will tell you whether your code is correct. You need to update the code that creates variables `avg_lot_size`, `newest_home_age`"
      ]
     },
     "metadata": {},
     "output_type": "display_data"
    }
   ],
   "source": [
    "# What is the average lot size (rounded to nearest integer)?\n",
    "avg_lot_size = ____\n",
    "\n",
    "# As of today, how old is the newest home (current year - the date in which it was built)\n",
    "newest_home_age = ____\n",
    "\n",
    "# Checks your answers\n",
    "step_2.check()"
   ]
  },
  {
   "cell_type": "code",
   "execution_count": 6,
   "id": "03e50632",
   "metadata": {
    "execution": {
     "iopub.execute_input": "2025-07-13T00:24:45.316777Z",
     "iopub.status.busy": "2025-07-13T00:24:45.316484Z",
     "iopub.status.idle": "2025-07-13T00:24:45.320645Z",
     "shell.execute_reply": "2025-07-13T00:24:45.319743Z"
    },
    "papermill": {
     "duration": 0.00978,
     "end_time": "2025-07-13T00:24:45.321875",
     "exception": false,
     "start_time": "2025-07-13T00:24:45.312095",
     "status": "completed"
    },
    "tags": []
   },
   "outputs": [],
   "source": [
    "#step_2.hint()\n",
    "#step_2.solution()"
   ]
  },
  {
   "cell_type": "markdown",
   "id": "1c5ddfc5",
   "metadata": {
    "papermill": {
     "duration": 0.004268,
     "end_time": "2025-07-13T00:24:45.329593",
     "exception": false,
     "start_time": "2025-07-13T00:24:45.325325",
     "status": "completed"
    },
    "tags": []
   },
   "source": [
    "## Think About Your Data\n",
    "\n",
    "The newest house in your data isn't that new.  A few potential explanations for this:\n",
    "1. They haven't built new houses where this data was collected.\n",
    "1. The data was collected a long time ago. Houses built after the data publication wouldn't show up.\n",
    "\n",
    "If the reason is explanation #1 above, does that affect your trust in the model you build with this data? What about if it is reason #2?\n",
    "\n",
    "How could you dig into the data to see which explanation is more plausible?\n",
    "\n",
    "Check out this **[discussion thread](https://www.kaggle.com/learn-forum/60581)** to see what others think or to add your ideas.\n",
    "\n",
    "# Keep Going\n",
    "\n",
    "You are ready for **[Your First Machine Learning Model](https://www.kaggle.com/dansbecker/your-first-machine-learning-model).**\n"
   ]
  },
  {
   "cell_type": "code",
   "execution_count": null,
   "id": "5261ca4b",
   "metadata": {
    "papermill": {
     "duration": 0.003072,
     "end_time": "2025-07-13T00:24:45.335940",
     "exception": false,
     "start_time": "2025-07-13T00:24:45.332868",
     "status": "completed"
    },
    "tags": []
   },
   "outputs": [],
   "source": []
  },
  {
   "cell_type": "code",
   "execution_count": null,
   "id": "dc388af9",
   "metadata": {
    "papermill": {
     "duration": 0.003361,
     "end_time": "2025-07-13T00:24:45.342552",
     "exception": false,
     "start_time": "2025-07-13T00:24:45.339191",
     "status": "completed"
    },
    "tags": []
   },
   "outputs": [],
   "source": []
  },
  {
   "cell_type": "markdown",
   "id": "aeba524e",
   "metadata": {
    "papermill": {
     "duration": 0.002987,
     "end_time": "2025-07-13T00:24:45.348843",
     "exception": false,
     "start_time": "2025-07-13T00:24:45.345856",
     "status": "completed"
    },
    "tags": []
   },
   "source": [
    "---\n",
    "**[Machine Learning Course Home Page](https://www.kaggle.com/learn/machine-learning)**\n",
    "\n"
   ]
  }
 ],
 "metadata": {
  "kaggle": {
   "accelerator": "none",
   "dataSources": [
    {
     "datasetId": 2709,
     "sourceId": 38454,
     "sourceType": "datasetVersion"
    },
    {
     "datasetId": 108980,
     "sourceId": 260251,
     "sourceType": "datasetVersion"
    }
   ],
   "isGpuEnabled": false,
   "isInternetEnabled": false,
   "language": "python",
   "sourceType": "notebook"
  },
  "kernelspec": {
   "display_name": "Python 3",
   "language": "python",
   "name": "python3"
  },
  "language_info": {
   "codemirror_mode": {
    "name": "ipython",
    "version": 3
   },
   "file_extension": ".py",
   "mimetype": "text/x-python",
   "name": "python",
   "nbconvert_exporter": "python",
   "pygments_lexer": "ipython3",
   "version": "3.11.13"
  },
  "papermill": {
   "default_parameters": {},
   "duration": 7.628441,
   "end_time": "2025-07-13T00:24:45.971720",
   "environment_variables": {},
   "exception": null,
   "input_path": "__notebook__.ipynb",
   "output_path": "__notebook__.ipynb",
   "parameters": {},
   "start_time": "2025-07-13T00:24:38.343279",
   "version": "2.6.0"
  }
 },
 "nbformat": 4,
 "nbformat_minor": 5
}
