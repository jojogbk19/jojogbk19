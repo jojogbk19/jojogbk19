{
 "cells": [
  {
   "cell_type": "markdown",
   "id": "13c15e02",
   "metadata": {
    "papermill": {
     "duration": 0.003492,
     "end_time": "2025-07-13T00:36:57.416210",
     "exception": false,
     "start_time": "2025-07-13T00:36:57.412718",
     "status": "completed"
    },
    "tags": []
   },
   "source": [
    "This exercise will test your ability to read a data file and understand statistics about the data.\n",
    "\n",
    "In later exercises, you will apply techniques to filter the data, build a machine learning model, and iteratively improve your model.\n",
    "\n",
    "The course examples use data from Melbourne. To ensure you can apply these techniques on your own, you will have to apply them to a new dataset (with house prices from Iowa).\n",
    "\n",
    "The exercises use a \"notebook\" coding environment.  In case you are unfamiliar with notebooks, we have a [90-second intro video](https://www.youtube.com/watch?v=4C2qMnaIKL4).\n",
    "\n",
    "# Exercises\n",
    "\n",
    "Run the following cell to set up code-checking, which will verify your work as you go."
   ]
  },
  {
   "cell_type": "markdown",
   "id": "4e8dec8b",
   "metadata": {
    "papermill": {
     "duration": 0.002469,
     "end_time": "2025-07-13T00:36:57.421813",
     "exception": false,
     "start_time": "2025-07-13T00:36:57.419344",
     "status": "completed"
    },
    "tags": []
   },
   "source": []
  },
  {
   "cell_type": "markdown",
   "id": "ea5fc23a",
   "metadata": {
    "papermill": {
     "duration": 0.002397,
     "end_time": "2025-07-13T00:36:57.426880",
     "exception": false,
     "start_time": "2025-07-13T00:36:57.424483",
     "status": "completed"
    },
    "tags": []
   },
   "source": []
  },
  {
   "cell_type": "code",
   "execution_count": 1,
   "id": "7dc838f4",
   "metadata": {
    "execution": {
     "iopub.execute_input": "2025-07-13T00:36:57.433706Z",
     "iopub.status.busy": "2025-07-13T00:36:57.433309Z",
     "iopub.status.idle": "2025-07-13T00:36:59.317812Z",
     "shell.execute_reply": "2025-07-13T00:36:59.316782Z"
    },
    "papermill": {
     "duration": 1.890002,
     "end_time": "2025-07-13T00:36:59.319557",
     "exception": false,
     "start_time": "2025-07-13T00:36:57.429555",
     "status": "completed"
    },
    "tags": []
   },
   "outputs": [
    {
     "name": "stdout",
     "output_type": "stream",
     "text": [
      "Setup Complete\n"
     ]
    }
   ],
   "source": [
    "# Set up code checking\n",
    "from learntools.core import binder\n",
    "binder.bind(globals())\n",
    "from learntools.machine_learning.ex2 import *\n",
    "print(\"Setup Complete\")"
   ]
  },
  {
   "cell_type": "markdown",
   "id": "e6519484",
   "metadata": {
    "papermill": {
     "duration": 0.002546,
     "end_time": "2025-07-13T00:36:59.325018",
     "exception": false,
     "start_time": "2025-07-13T00:36:59.322472",
     "status": "completed"
    },
    "tags": []
   },
   "source": [
    "## Step 1: Loading Data\n",
    "Read the Iowa data file into a Pandas DataFrame called `home_data`."
   ]
  },
  {
   "cell_type": "code",
   "execution_count": 2,
   "id": "e88c80a3",
   "metadata": {
    "execution": {
     "iopub.execute_input": "2025-07-13T00:36:59.331635Z",
     "iopub.status.busy": "2025-07-13T00:36:59.331241Z",
     "iopub.status.idle": "2025-07-13T00:36:59.339083Z",
     "shell.execute_reply": "2025-07-13T00:36:59.338229Z"
    },
    "papermill": {
     "duration": 0.017304,
     "end_time": "2025-07-13T00:36:59.344851",
     "exception": false,
     "start_time": "2025-07-13T00:36:59.327547",
     "status": "completed"
    },
    "tags": []
   },
   "outputs": [
    {
     "data": {
      "application/javascript": [
       "parent.postMessage({\"jupyterEvent\": \"custom.exercise_interaction\", \"data\": {\"outcomeType\": 4, \"interactionType\": 1, \"questionType\": 1, \"questionId\": \"1_LoadHomeData\", \"learnToolsVersion\": \"0.3.5\", \"valueTowardsCompletion\": 0.0, \"failureMessage\": \"\", \"exceptionClass\": \"\", \"trace\": \"\"}}, \"*\")"
      ],
      "text/plain": [
       "<IPython.core.display.Javascript object>"
      ]
     },
     "metadata": {},
     "output_type": "display_data"
    },
    {
     "data": {
      "text/markdown": [
       "<span style=\"color:#ccaa33\">Check:</span> When you've updated the starter code, `check()` will tell you whether your code is correct. You need to update the code that creates variable `home_data`"
      ],
      "text/plain": [
       "Check: When you've updated the starter code, `check()` will tell you whether your code is correct. You need to update the code that creates variable `home_data`"
      ]
     },
     "metadata": {},
     "output_type": "display_data"
    }
   ],
   "source": [
    "import pandas as pd\n",
    "\n",
    "# Path of the file to read\n",
    "iowa_file_path = '../input/home-data-for-ml-course/train.csv'\n",
    "\n",
    "# Fill in the line below to read the file into a variable home_data\n",
    "home_data = ____\n",
    "\n",
    "# Call line below with no argument to check that you've loaded the data correctly\n",
    "step_1.check()"
   ]
  },
  {
   "cell_type": "code",
   "execution_count": 3,
   "id": "21ab6fc2",
   "metadata": {
    "execution": {
     "iopub.execute_input": "2025-07-13T00:36:59.353495Z",
     "iopub.status.busy": "2025-07-13T00:36:59.353095Z",
     "iopub.status.idle": "2025-07-13T00:36:59.356852Z",
     "shell.execute_reply": "2025-07-13T00:36:59.356095Z"
    },
    "papermill": {
     "duration": 0.009213,
     "end_time": "2025-07-13T00:36:59.358296",
     "exception": false,
     "start_time": "2025-07-13T00:36:59.349083",
     "status": "completed"
    },
    "tags": []
   },
   "outputs": [],
   "source": [
    "# Lines below will give you a hint or solution code\n",
    "#step_1.hint()\n",
    "#step_1.solution()"
   ]
  },
  {
   "cell_type": "markdown",
   "id": "3fbfae94",
   "metadata": {
    "papermill": {
     "duration": 0.002682,
     "end_time": "2025-07-13T00:36:59.364690",
     "exception": false,
     "start_time": "2025-07-13T00:36:59.362008",
     "status": "completed"
    },
    "tags": []
   },
   "source": [
    "## Step 2: Review The Data\n",
    "Use the command you learned to view summary statistics of the data. Then fill in variables to answer the following questions"
   ]
  },
  {
   "cell_type": "code",
   "execution_count": 4,
   "id": "63445d60",
   "metadata": {
    "execution": {
     "iopub.execute_input": "2025-07-13T00:36:59.371845Z",
     "iopub.status.busy": "2025-07-13T00:36:59.371518Z",
     "iopub.status.idle": "2025-07-13T00:36:59.376859Z",
     "shell.execute_reply": "2025-07-13T00:36:59.376133Z"
    },
    "papermill": {
     "duration": 0.010696,
     "end_time": "2025-07-13T00:36:59.378248",
     "exception": false,
     "start_time": "2025-07-13T00:36:59.367552",
     "status": "completed"
    },
    "tags": []
   },
   "outputs": [
    {
     "data": {
      "text/markdown": [],
      "text/plain": [
       "<learntools.core.constants.PlaceholderValue at 0x79e70ece09d0>"
      ]
     },
     "execution_count": 4,
     "metadata": {},
     "output_type": "execute_result"
    }
   ],
   "source": [
    "# Print summary statistics in next line\n",
    "____"
   ]
  },
  {
   "cell_type": "code",
   "execution_count": 5,
   "id": "bcb3e9aa",
   "metadata": {
    "execution": {
     "iopub.execute_input": "2025-07-13T00:36:59.385369Z",
     "iopub.status.busy": "2025-07-13T00:36:59.385073Z",
     "iopub.status.idle": "2025-07-13T00:36:59.392493Z",
     "shell.execute_reply": "2025-07-13T00:36:59.391704Z"
    },
    "papermill": {
     "duration": 0.012627,
     "end_time": "2025-07-13T00:36:59.393911",
     "exception": false,
     "start_time": "2025-07-13T00:36:59.381284",
     "status": "completed"
    },
    "tags": []
   },
   "outputs": [
    {
     "data": {
      "application/javascript": [
       "parent.postMessage({\"jupyterEvent\": \"custom.exercise_interaction\", \"data\": {\"outcomeType\": 4, \"interactionType\": 1, \"questionType\": 1, \"questionId\": \"2_HomeDescription\", \"learnToolsVersion\": \"0.3.5\", \"valueTowardsCompletion\": 0.0, \"failureMessage\": \"\", \"exceptionClass\": \"\", \"trace\": \"\"}}, \"*\")"
      ],
      "text/plain": [
       "<IPython.core.display.Javascript object>"
      ]
     },
     "metadata": {},
     "output_type": "display_data"
    },
    {
     "data": {
      "text/markdown": [
       "<span style=\"color:#ccaa33\">Check:</span> When you've updated the starter code, `check()` will tell you whether your code is correct. You need to update the code that creates variables `avg_lot_size`, `newest_home_age`"
      ],
      "text/plain": [
       "Check: When you've updated the starter code, `check()` will tell you whether your code is correct. You need to update the code that creates variables `avg_lot_size`, `newest_home_age`"
      ]
     },
     "metadata": {},
     "output_type": "display_data"
    }
   ],
   "source": [
    "# What is the average lot size (rounded to nearest integer)?\n",
    "avg_lot_size = ____\n",
    "\n",
    "# As of today, how old is the newest home (current year - the date in which it was built)\n",
    "newest_home_age = ____\n",
    "\n",
    "# Checks your answers\n",
    "step_2.check()"
   ]
  },
  {
   "cell_type": "code",
   "execution_count": 6,
   "id": "bf79fe42",
   "metadata": {
    "execution": {
     "iopub.execute_input": "2025-07-13T00:36:59.401342Z",
     "iopub.status.busy": "2025-07-13T00:36:59.401066Z",
     "iopub.status.idle": "2025-07-13T00:36:59.404977Z",
     "shell.execute_reply": "2025-07-13T00:36:59.404281Z"
    },
    "papermill": {
     "duration": 0.009089,
     "end_time": "2025-07-13T00:36:59.406310",
     "exception": false,
     "start_time": "2025-07-13T00:36:59.397221",
     "status": "completed"
    },
    "tags": []
   },
   "outputs": [],
   "source": [
    "#step_2.hint()\n",
    "#step_2.solution()"
   ]
  },
  {
   "cell_type": "markdown",
   "id": "a4ed1646",
   "metadata": {
    "papermill": {
     "duration": 0.003885,
     "end_time": "2025-07-13T00:36:59.413557",
     "exception": false,
     "start_time": "2025-07-13T00:36:59.409672",
     "status": "completed"
    },
    "tags": []
   },
   "source": [
    "## Think About Your Data\n",
    "\n",
    "The newest house in your data isn't that new.  A few potential explanations for this:\n",
    "1. They haven't built new houses where this data was collected.\n",
    "1. The data was collected a long time ago. Houses built after the data publication wouldn't show up.\n",
    "\n",
    "If the reason is explanation #1 above, does that affect your trust in the model you build with this data? What about if it is reason #2?\n",
    "\n",
    "How could you dig into the data to see which explanation is more plausible?\n",
    "\n",
    "Check out this **[discussion thread](https://www.kaggle.com/learn-forum/60581)** to see what others think or to add your ideas.\n",
    "\n",
    "# Keep Going\n",
    "\n",
    "You are ready for **[Your First Machine Learning Model](https://www.kaggle.com/dansbecker/your-first-machine-learning-model).**\n"
   ]
  },
  {
   "cell_type": "code",
   "execution_count": null,
   "id": "34567eef",
   "metadata": {
    "papermill": {
     "duration": 0.002869,
     "end_time": "2025-07-13T00:36:59.419518",
     "exception": false,
     "start_time": "2025-07-13T00:36:59.416649",
     "status": "completed"
    },
    "tags": []
   },
   "outputs": [],
   "source": []
  },
  {
   "cell_type": "code",
   "execution_count": null,
   "id": "b670f47a",
   "metadata": {
    "papermill": {
     "duration": 0.002875,
     "end_time": "2025-07-13T00:36:59.425441",
     "exception": false,
     "start_time": "2025-07-13T00:36:59.422566",
     "status": "completed"
    },
    "tags": []
   },
   "outputs": [],
   "source": []
  },
  {
   "cell_type": "markdown",
   "id": "07fc7e1e",
   "metadata": {
    "papermill": {
     "duration": 0.002833,
     "end_time": "2025-07-13T00:36:59.431287",
     "exception": false,
     "start_time": "2025-07-13T00:36:59.428454",
     "status": "completed"
    },
    "tags": []
   },
   "source": [
    "---\n",
    "**[Machine Learning Course Home Page](https://www.kaggle.com/learn/machine-learning)**\n",
    "\n"
   ]
  }
 ],
 "metadata": {
  "kaggle": {
   "accelerator": "none",
   "dataSources": [
    {
     "datasetId": 2709,
     "sourceId": 38454,
     "sourceType": "datasetVersion"
    },
    {
     "datasetId": 108980,
     "sourceId": 260251,
     "sourceType": "datasetVersion"
    }
   ],
   "isGpuEnabled": false,
   "isInternetEnabled": false,
   "language": "python",
   "sourceType": "notebook"
  },
  "kernelspec": {
   "display_name": "Python 3",
   "language": "python",
   "name": "python3"
  },
  "language_info": {
   "codemirror_mode": {
    "name": "ipython",
    "version": 3
   },
   "file_extension": ".py",
   "mimetype": "text/x-python",
   "name": "python",
   "nbconvert_exporter": "python",
   "pygments_lexer": "ipython3",
   "version": "3.11.13"
  },
  "papermill": {
   "default_parameters": {},
   "duration": 7.520723,
   "end_time": "2025-07-13T00:36:59.954703",
   "environment_variables": {},
   "exception": null,
   "input_path": "__notebook__.ipynb",
   "output_path": "__notebook__.ipynb",
   "parameters": {},
   "start_time": "2025-07-13T00:36:52.433980",
   "version": "2.6.0"
  }
 },
 "nbformat": 4,
 "nbformat_minor": 5
}
