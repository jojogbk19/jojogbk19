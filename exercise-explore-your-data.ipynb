{
 "cells": [
  {
   "cell_type": "markdown",
   "id": "86b81c01",
   "metadata": {
    "papermill": {
     "duration": 0.002967,
     "end_time": "2025-07-13T00:33:36.760877",
     "exception": false,
     "start_time": "2025-07-13T00:33:36.757910",
     "status": "completed"
    },
    "tags": []
   },
   "source": [
    "This exercise will test your ability to read a data file and understand statistics about the data.\n",
    "\n",
    "In later exercises, you will apply techniques to filter the data, build a machine learning model, and iteratively improve your model.\n",
    "\n",
    "The course examples use data from Melbourne. To ensure you can apply these techniques on your own, you will have to apply them to a new dataset (with house prices from Iowa).\n",
    "\n",
    "The exercises use a \"notebook\" coding environment.  In case you are unfamiliar with notebooks, we have a [90-second intro video](https://www.youtube.com/watch?v=4C2qMnaIKL4).\n",
    "\n",
    "# Exercises\n",
    "\n",
    "Run the following cell to set up code-checking, which will verify your work as you go."
   ]
  },
  {
   "cell_type": "markdown",
   "id": "07bc4469",
   "metadata": {
    "papermill": {
     "duration": 0.002185,
     "end_time": "2025-07-13T00:33:36.765896",
     "exception": false,
     "start_time": "2025-07-13T00:33:36.763711",
     "status": "completed"
    },
    "tags": []
   },
   "source": []
  },
  {
   "cell_type": "markdown",
   "id": "99bc8c1f",
   "metadata": {
    "papermill": {
     "duration": 0.002154,
     "end_time": "2025-07-13T00:33:36.770486",
     "exception": false,
     "start_time": "2025-07-13T00:33:36.768332",
     "status": "completed"
    },
    "tags": []
   },
   "source": []
  },
  {
   "cell_type": "code",
   "execution_count": 1,
   "id": "80d418da",
   "metadata": {
    "execution": {
     "iopub.execute_input": "2025-07-13T00:33:36.776567Z",
     "iopub.status.busy": "2025-07-13T00:33:36.776282Z",
     "iopub.status.idle": "2025-07-13T00:33:38.612378Z",
     "shell.execute_reply": "2025-07-13T00:33:38.611471Z"
    },
    "papermill": {
     "duration": 1.841175,
     "end_time": "2025-07-13T00:33:38.614054",
     "exception": false,
     "start_time": "2025-07-13T00:33:36.772879",
     "status": "completed"
    },
    "tags": []
   },
   "outputs": [
    {
     "name": "stdout",
     "output_type": "stream",
     "text": [
      "Setup Complete\n"
     ]
    }
   ],
   "source": [
    "# Set up code checking\n",
    "from learntools.core import binder\n",
    "binder.bind(globals())\n",
    "from learntools.machine_learning.ex2 import *\n",
    "print(\"Setup Complete\")"
   ]
  },
  {
   "cell_type": "markdown",
   "id": "1ff03325",
   "metadata": {
    "papermill": {
     "duration": 0.002349,
     "end_time": "2025-07-13T00:33:38.619161",
     "exception": false,
     "start_time": "2025-07-13T00:33:38.616812",
     "status": "completed"
    },
    "tags": []
   },
   "source": [
    "## Step 1: Loading Data\n",
    "Read the Iowa data file into a Pandas DataFrame called `home_data`."
   ]
  },
  {
   "cell_type": "code",
   "execution_count": 2,
   "id": "1a3e5dfa",
   "metadata": {
    "execution": {
     "iopub.execute_input": "2025-07-13T00:33:38.625451Z",
     "iopub.status.busy": "2025-07-13T00:33:38.625024Z",
     "iopub.status.idle": "2025-07-13T00:33:38.633221Z",
     "shell.execute_reply": "2025-07-13T00:33:38.632493Z"
    },
    "papermill": {
     "duration": 0.013105,
     "end_time": "2025-07-13T00:33:38.634612",
     "exception": false,
     "start_time": "2025-07-13T00:33:38.621507",
     "status": "completed"
    },
    "tags": []
   },
   "outputs": [
    {
     "data": {
      "application/javascript": [
       "parent.postMessage({\"jupyterEvent\": \"custom.exercise_interaction\", \"data\": {\"outcomeType\": 4, \"interactionType\": 1, \"questionType\": 1, \"questionId\": \"1_LoadHomeData\", \"learnToolsVersion\": \"0.3.5\", \"valueTowardsCompletion\": 0.0, \"failureMessage\": \"\", \"exceptionClass\": \"\", \"trace\": \"\"}}, \"*\")"
      ],
      "text/plain": [
       "<IPython.core.display.Javascript object>"
      ]
     },
     "metadata": {},
     "output_type": "display_data"
    },
    {
     "data": {
      "text/markdown": [
       "<span style=\"color:#ccaa33\">Check:</span> When you've updated the starter code, `check()` will tell you whether your code is correct. You need to update the code that creates variable `home_data`"
      ],
      "text/plain": [
       "Check: When you've updated the starter code, `check()` will tell you whether your code is correct. You need to update the code that creates variable `home_data`"
      ]
     },
     "metadata": {},
     "output_type": "display_data"
    }
   ],
   "source": [
    "import pandas as pd\n",
    "\n",
    "# Path of the file to read\n",
    "iowa_file_path = '../input/home-data-for-ml-course/train.csv'\n",
    "\n",
    "# Fill in the line below to read the file into a variable home_data\n",
    "home_data = ____\n",
    "\n",
    "# Call line below with no argument to check that you've loaded the data correctly\n",
    "step_1.check()"
   ]
  },
  {
   "cell_type": "code",
   "execution_count": 3,
   "id": "005a19d5",
   "metadata": {
    "execution": {
     "iopub.execute_input": "2025-07-13T00:33:38.641358Z",
     "iopub.status.busy": "2025-07-13T00:33:38.641103Z",
     "iopub.status.idle": "2025-07-13T00:33:38.644904Z",
     "shell.execute_reply": "2025-07-13T00:33:38.644079Z"
    },
    "papermill": {
     "duration": 0.008904,
     "end_time": "2025-07-13T00:33:38.646473",
     "exception": false,
     "start_time": "2025-07-13T00:33:38.637569",
     "status": "completed"
    },
    "tags": []
   },
   "outputs": [],
   "source": [
    "# Lines below will give you a hint or solution code\n",
    "#step_1.hint()\n",
    "#step_1.solution()"
   ]
  },
  {
   "cell_type": "markdown",
   "id": "e3efe9ef",
   "metadata": {
    "papermill": {
     "duration": 0.002601,
     "end_time": "2025-07-13T00:33:38.651904",
     "exception": false,
     "start_time": "2025-07-13T00:33:38.649303",
     "status": "completed"
    },
    "tags": []
   },
   "source": [
    "## Step 2: Review The Data\n",
    "Use the command you learned to view summary statistics of the data. Then fill in variables to answer the following questions"
   ]
  },
  {
   "cell_type": "code",
   "execution_count": 4,
   "id": "690d8918",
   "metadata": {
    "execution": {
     "iopub.execute_input": "2025-07-13T00:33:38.658113Z",
     "iopub.status.busy": "2025-07-13T00:33:38.657842Z",
     "iopub.status.idle": "2025-07-13T00:33:38.662833Z",
     "shell.execute_reply": "2025-07-13T00:33:38.662140Z"
    },
    "papermill": {
     "duration": 0.009747,
     "end_time": "2025-07-13T00:33:38.664201",
     "exception": false,
     "start_time": "2025-07-13T00:33:38.654454",
     "status": "completed"
    },
    "tags": []
   },
   "outputs": [
    {
     "data": {
      "text/markdown": [],
      "text/plain": [
       "<learntools.core.constants.PlaceholderValue at 0x7870f690b210>"
      ]
     },
     "execution_count": 4,
     "metadata": {},
     "output_type": "execute_result"
    }
   ],
   "source": [
    "# Print summary statistics in next line\n",
    "____"
   ]
  },
  {
   "cell_type": "code",
   "execution_count": 5,
   "id": "8b03079d",
   "metadata": {
    "execution": {
     "iopub.execute_input": "2025-07-13T00:33:38.670909Z",
     "iopub.status.busy": "2025-07-13T00:33:38.670633Z",
     "iopub.status.idle": "2025-07-13T00:33:38.677006Z",
     "shell.execute_reply": "2025-07-13T00:33:38.676362Z"
    },
    "papermill": {
     "duration": 0.011221,
     "end_time": "2025-07-13T00:33:38.678285",
     "exception": false,
     "start_time": "2025-07-13T00:33:38.667064",
     "status": "completed"
    },
    "tags": []
   },
   "outputs": [
    {
     "data": {
      "application/javascript": [
       "parent.postMessage({\"jupyterEvent\": \"custom.exercise_interaction\", \"data\": {\"outcomeType\": 4, \"interactionType\": 1, \"questionType\": 1, \"questionId\": \"2_HomeDescription\", \"learnToolsVersion\": \"0.3.5\", \"valueTowardsCompletion\": 0.0, \"failureMessage\": \"\", \"exceptionClass\": \"\", \"trace\": \"\"}}, \"*\")"
      ],
      "text/plain": [
       "<IPython.core.display.Javascript object>"
      ]
     },
     "metadata": {},
     "output_type": "display_data"
    },
    {
     "data": {
      "text/markdown": [
       "<span style=\"color:#ccaa33\">Check:</span> When you've updated the starter code, `check()` will tell you whether your code is correct. You need to update the code that creates variables `avg_lot_size`, `newest_home_age`"
      ],
      "text/plain": [
       "Check: When you've updated the starter code, `check()` will tell you whether your code is correct. You need to update the code that creates variables `avg_lot_size`, `newest_home_age`"
      ]
     },
     "metadata": {},
     "output_type": "display_data"
    }
   ],
   "source": [
    "# What is the average lot size (rounded to nearest integer)?\n",
    "avg_lot_size = ____\n",
    "\n",
    "# As of today, how old is the newest home (current year - the date in which it was built)\n",
    "newest_home_age = ____\n",
    "\n",
    "# Checks your answers\n",
    "step_2.check()"
   ]
  },
  {
   "cell_type": "code",
   "execution_count": 6,
   "id": "1f55a192",
   "metadata": {
    "execution": {
     "iopub.execute_input": "2025-07-13T00:33:38.684992Z",
     "iopub.status.busy": "2025-07-13T00:33:38.684756Z",
     "iopub.status.idle": "2025-07-13T00:33:38.688343Z",
     "shell.execute_reply": "2025-07-13T00:33:38.687581Z"
    },
    "papermill": {
     "duration": 0.008398,
     "end_time": "2025-07-13T00:33:38.689675",
     "exception": false,
     "start_time": "2025-07-13T00:33:38.681277",
     "status": "completed"
    },
    "tags": []
   },
   "outputs": [],
   "source": [
    "#step_2.hint()\n",
    "#step_2.solution()"
   ]
  },
  {
   "cell_type": "markdown",
   "id": "748cca1d",
   "metadata": {
    "papermill": {
     "duration": 0.003525,
     "end_time": "2025-07-13T00:33:38.696582",
     "exception": false,
     "start_time": "2025-07-13T00:33:38.693057",
     "status": "completed"
    },
    "tags": []
   },
   "source": [
    "## Think About Your Data\n",
    "\n",
    "The newest house in your data isn't that new.  A few potential explanations for this:\n",
    "1. They haven't built new houses where this data was collected.\n",
    "1. The data was collected a long time ago. Houses built after the data publication wouldn't show up.\n",
    "\n",
    "If the reason is explanation #1 above, does that affect your trust in the model you build with this data? What about if it is reason #2?\n",
    "\n",
    "How could you dig into the data to see which explanation is more plausible?\n",
    "\n",
    "Check out this **[discussion thread](https://www.kaggle.com/learn-forum/60581)** to see what others think or to add your ideas.\n",
    "\n",
    "# Keep Going\n",
    "\n",
    "You are ready for **[Your First Machine Learning Model](https://www.kaggle.com/dansbecker/your-first-machine-learning-model).**\n"
   ]
  },
  {
   "cell_type": "code",
   "execution_count": null,
   "id": "adfe375d",
   "metadata": {
    "papermill": {
     "duration": 0.002717,
     "end_time": "2025-07-13T00:33:38.702148",
     "exception": false,
     "start_time": "2025-07-13T00:33:38.699431",
     "status": "completed"
    },
    "tags": []
   },
   "outputs": [],
   "source": []
  },
  {
   "cell_type": "code",
   "execution_count": null,
   "id": "4fb82fc1",
   "metadata": {
    "papermill": {
     "duration": 0.002823,
     "end_time": "2025-07-13T00:33:38.707778",
     "exception": false,
     "start_time": "2025-07-13T00:33:38.704955",
     "status": "completed"
    },
    "tags": []
   },
   "outputs": [],
   "source": []
  },
  {
   "cell_type": "markdown",
   "id": "f7f0475f",
   "metadata": {
    "papermill": {
     "duration": 0.002616,
     "end_time": "2025-07-13T00:33:38.713126",
     "exception": false,
     "start_time": "2025-07-13T00:33:38.710510",
     "status": "completed"
    },
    "tags": []
   },
   "source": [
    "---\n",
    "**[Machine Learning Course Home Page](https://www.kaggle.com/learn/machine-learning)**\n",
    "\n"
   ]
  }
 ],
 "metadata": {
  "kaggle": {
   "accelerator": "none",
   "dataSources": [
    {
     "datasetId": 2709,
     "sourceId": 38454,
     "sourceType": "datasetVersion"
    },
    {
     "datasetId": 108980,
     "sourceId": 260251,
     "sourceType": "datasetVersion"
    }
   ],
   "isGpuEnabled": false,
   "isInternetEnabled": false,
   "language": "python",
   "sourceType": "notebook"
  },
  "kernelspec": {
   "display_name": "Python 3",
   "language": "python",
   "name": "python3"
  },
  "language_info": {
   "codemirror_mode": {
    "name": "ipython",
    "version": 3
   },
   "file_extension": ".py",
   "mimetype": "text/x-python",
   "name": "python",
   "nbconvert_exporter": "python",
   "pygments_lexer": "ipython3",
   "version": "3.11.13"
  },
  "papermill": {
   "default_parameters": {},
   "duration": 6.844197,
   "end_time": "2025-07-13T00:33:39.134240",
   "environment_variables": {},
   "exception": null,
   "input_path": "__notebook__.ipynb",
   "output_path": "__notebook__.ipynb",
   "parameters": {},
   "start_time": "2025-07-13T00:33:32.290043",
   "version": "2.6.0"
  }
 },
 "nbformat": 4,
 "nbformat_minor": 5
}
