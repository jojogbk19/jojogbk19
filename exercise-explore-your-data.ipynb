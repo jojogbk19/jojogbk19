{
 "cells": [
  {
   "cell_type": "markdown",
   "id": "a5909725",
   "metadata": {
    "papermill": {
     "duration": 0.003222,
     "end_time": "2025-07-13T00:35:27.423867",
     "exception": false,
     "start_time": "2025-07-13T00:35:27.420645",
     "status": "completed"
    },
    "tags": []
   },
   "source": [
    "This exercise will test your ability to read a data file and understand statistics about the data.\n",
    "\n",
    "In later exercises, you will apply techniques to filter the data, build a machine learning model, and iteratively improve your model.\n",
    "\n",
    "The course examples use data from Melbourne. To ensure you can apply these techniques on your own, you will have to apply them to a new dataset (with house prices from Iowa).\n",
    "\n",
    "The exercises use a \"notebook\" coding environment.  In case you are unfamiliar with notebooks, we have a [90-second intro video](https://www.youtube.com/watch?v=4C2qMnaIKL4).\n",
    "\n",
    "# Exercises\n",
    "\n",
    "Run the following cell to set up code-checking, which will verify your work as you go."
   ]
  },
  {
   "cell_type": "markdown",
   "id": "fbecc702",
   "metadata": {
    "papermill": {
     "duration": 0.00232,
     "end_time": "2025-07-13T00:35:27.429159",
     "exception": false,
     "start_time": "2025-07-13T00:35:27.426839",
     "status": "completed"
    },
    "tags": []
   },
   "source": []
  },
  {
   "cell_type": "markdown",
   "id": "ea5e1cdf",
   "metadata": {
    "papermill": {
     "duration": 0.002247,
     "end_time": "2025-07-13T00:35:27.433931",
     "exception": false,
     "start_time": "2025-07-13T00:35:27.431684",
     "status": "completed"
    },
    "tags": []
   },
   "source": []
  },
  {
   "cell_type": "code",
   "execution_count": 1,
   "id": "470cdd3e",
   "metadata": {
    "execution": {
     "iopub.execute_input": "2025-07-13T00:35:27.440144Z",
     "iopub.status.busy": "2025-07-13T00:35:27.439801Z",
     "iopub.status.idle": "2025-07-13T00:35:29.300232Z",
     "shell.execute_reply": "2025-07-13T00:35:29.299128Z"
    },
    "papermill": {
     "duration": 1.865268,
     "end_time": "2025-07-13T00:35:29.301714",
     "exception": false,
     "start_time": "2025-07-13T00:35:27.436446",
     "status": "completed"
    },
    "tags": []
   },
   "outputs": [
    {
     "name": "stdout",
     "output_type": "stream",
     "text": [
      "Setup Complete\n"
     ]
    }
   ],
   "source": [
    "# Set up code checking\n",
    "from learntools.core import binder\n",
    "binder.bind(globals())\n",
    "from learntools.machine_learning.ex2 import *\n",
    "print(\"Setup Complete\")"
   ]
  },
  {
   "cell_type": "markdown",
   "id": "f051586d",
   "metadata": {
    "papermill": {
     "duration": 0.002421,
     "end_time": "2025-07-13T00:35:29.306983",
     "exception": false,
     "start_time": "2025-07-13T00:35:29.304562",
     "status": "completed"
    },
    "tags": []
   },
   "source": [
    "## Step 1: Loading Data\n",
    "Read the Iowa data file into a Pandas DataFrame called `home_data`."
   ]
  },
  {
   "cell_type": "code",
   "execution_count": 2,
   "id": "091c3654",
   "metadata": {
    "execution": {
     "iopub.execute_input": "2025-07-13T00:35:29.313373Z",
     "iopub.status.busy": "2025-07-13T00:35:29.312961Z",
     "iopub.status.idle": "2025-07-13T00:35:29.320797Z",
     "shell.execute_reply": "2025-07-13T00:35:29.320104Z"
    },
    "papermill": {
     "duration": 0.012594,
     "end_time": "2025-07-13T00:35:29.322120",
     "exception": false,
     "start_time": "2025-07-13T00:35:29.309526",
     "status": "completed"
    },
    "tags": []
   },
   "outputs": [
    {
     "data": {
      "application/javascript": [
       "parent.postMessage({\"jupyterEvent\": \"custom.exercise_interaction\", \"data\": {\"outcomeType\": 4, \"interactionType\": 1, \"questionType\": 1, \"questionId\": \"1_LoadHomeData\", \"learnToolsVersion\": \"0.3.5\", \"valueTowardsCompletion\": 0.0, \"failureMessage\": \"\", \"exceptionClass\": \"\", \"trace\": \"\"}}, \"*\")"
      ],
      "text/plain": [
       "<IPython.core.display.Javascript object>"
      ]
     },
     "metadata": {},
     "output_type": "display_data"
    },
    {
     "data": {
      "text/markdown": [
       "<span style=\"color:#ccaa33\">Check:</span> When you've updated the starter code, `check()` will tell you whether your code is correct. You need to update the code that creates variable `home_data`"
      ],
      "text/plain": [
       "Check: When you've updated the starter code, `check()` will tell you whether your code is correct. You need to update the code that creates variable `home_data`"
      ]
     },
     "metadata": {},
     "output_type": "display_data"
    }
   ],
   "source": [
    "import pandas as pd\n",
    "\n",
    "# Path of the file to read\n",
    "iowa_file_path = '../input/home-data-for-ml-course/train.csv'\n",
    "\n",
    "# Fill in the line below to read the file into a variable home_data\n",
    "home_data = ____\n",
    "\n",
    "# Call line below with no argument to check that you've loaded the data correctly\n",
    "step_1.check()"
   ]
  },
  {
   "cell_type": "code",
   "execution_count": 3,
   "id": "59b94521",
   "metadata": {
    "execution": {
     "iopub.execute_input": "2025-07-13T00:35:29.329724Z",
     "iopub.status.busy": "2025-07-13T00:35:29.329189Z",
     "iopub.status.idle": "2025-07-13T00:35:29.332484Z",
     "shell.execute_reply": "2025-07-13T00:35:29.331817Z"
    },
    "papermill": {
     "duration": 0.008634,
     "end_time": "2025-07-13T00:35:29.333762",
     "exception": false,
     "start_time": "2025-07-13T00:35:29.325128",
     "status": "completed"
    },
    "tags": []
   },
   "outputs": [],
   "source": [
    "# Lines below will give you a hint or solution code\n",
    "#step_1.hint()\n",
    "#step_1.solution()"
   ]
  },
  {
   "cell_type": "markdown",
   "id": "7dbd580d",
   "metadata": {
    "papermill": {
     "duration": 0.00274,
     "end_time": "2025-07-13T00:35:29.339443",
     "exception": false,
     "start_time": "2025-07-13T00:35:29.336703",
     "status": "completed"
    },
    "tags": []
   },
   "source": [
    "## Step 2: Review The Data\n",
    "Use the command you learned to view summary statistics of the data. Then fill in variables to answer the following questions"
   ]
  },
  {
   "cell_type": "code",
   "execution_count": 4,
   "id": "e613c675",
   "metadata": {
    "execution": {
     "iopub.execute_input": "2025-07-13T00:35:29.346516Z",
     "iopub.status.busy": "2025-07-13T00:35:29.345824Z",
     "iopub.status.idle": "2025-07-13T00:35:29.350918Z",
     "shell.execute_reply": "2025-07-13T00:35:29.350253Z"
    },
    "papermill": {
     "duration": 0.010008,
     "end_time": "2025-07-13T00:35:29.352259",
     "exception": false,
     "start_time": "2025-07-13T00:35:29.342251",
     "status": "completed"
    },
    "tags": []
   },
   "outputs": [
    {
     "data": {
      "text/markdown": [],
      "text/plain": [
       "<learntools.core.constants.PlaceholderValue at 0x792cac9b33d0>"
      ]
     },
     "execution_count": 4,
     "metadata": {},
     "output_type": "execute_result"
    }
   ],
   "source": [
    "# Print summary statistics in next line\n",
    "____"
   ]
  },
  {
   "cell_type": "code",
   "execution_count": 5,
   "id": "b18bbb71",
   "metadata": {
    "execution": {
     "iopub.execute_input": "2025-07-13T00:35:29.359535Z",
     "iopub.status.busy": "2025-07-13T00:35:29.359256Z",
     "iopub.status.idle": "2025-07-13T00:35:29.365864Z",
     "shell.execute_reply": "2025-07-13T00:35:29.365208Z"
    },
    "papermill": {
     "duration": 0.011752,
     "end_time": "2025-07-13T00:35:29.367142",
     "exception": false,
     "start_time": "2025-07-13T00:35:29.355390",
     "status": "completed"
    },
    "tags": []
   },
   "outputs": [
    {
     "data": {
      "application/javascript": [
       "parent.postMessage({\"jupyterEvent\": \"custom.exercise_interaction\", \"data\": {\"outcomeType\": 4, \"interactionType\": 1, \"questionType\": 1, \"questionId\": \"2_HomeDescription\", \"learnToolsVersion\": \"0.3.5\", \"valueTowardsCompletion\": 0.0, \"failureMessage\": \"\", \"exceptionClass\": \"\", \"trace\": \"\"}}, \"*\")"
      ],
      "text/plain": [
       "<IPython.core.display.Javascript object>"
      ]
     },
     "metadata": {},
     "output_type": "display_data"
    },
    {
     "data": {
      "text/markdown": [
       "<span style=\"color:#ccaa33\">Check:</span> When you've updated the starter code, `check()` will tell you whether your code is correct. You need to update the code that creates variables `avg_lot_size`, `newest_home_age`"
      ],
      "text/plain": [
       "Check: When you've updated the starter code, `check()` will tell you whether your code is correct. You need to update the code that creates variables `avg_lot_size`, `newest_home_age`"
      ]
     },
     "metadata": {},
     "output_type": "display_data"
    }
   ],
   "source": [
    "# What is the average lot size (rounded to nearest integer)?\n",
    "avg_lot_size = ____\n",
    "\n",
    "# As of today, how old is the newest home (current year - the date in which it was built)\n",
    "newest_home_age = ____\n",
    "\n",
    "# Checks your answers\n",
    "step_2.check()"
   ]
  },
  {
   "cell_type": "code",
   "execution_count": 6,
   "id": "9449e0fb",
   "metadata": {
    "execution": {
     "iopub.execute_input": "2025-07-13T00:35:29.374664Z",
     "iopub.status.busy": "2025-07-13T00:35:29.374379Z",
     "iopub.status.idle": "2025-07-13T00:35:29.377864Z",
     "shell.execute_reply": "2025-07-13T00:35:29.377133Z"
    },
    "papermill": {
     "duration": 0.008884,
     "end_time": "2025-07-13T00:35:29.379249",
     "exception": false,
     "start_time": "2025-07-13T00:35:29.370365",
     "status": "completed"
    },
    "tags": []
   },
   "outputs": [],
   "source": [
    "#step_2.hint()\n",
    "#step_2.solution()"
   ]
  },
  {
   "cell_type": "markdown",
   "id": "696bc459",
   "metadata": {
    "papermill": {
     "duration": 0.003777,
     "end_time": "2025-07-13T00:35:29.386332",
     "exception": false,
     "start_time": "2025-07-13T00:35:29.382555",
     "status": "completed"
    },
    "tags": []
   },
   "source": [
    "## Think About Your Data\n",
    "\n",
    "The newest house in your data isn't that new.  A few potential explanations for this:\n",
    "1. They haven't built new houses where this data was collected.\n",
    "1. The data was collected a long time ago. Houses built after the data publication wouldn't show up.\n",
    "\n",
    "If the reason is explanation #1 above, does that affect your trust in the model you build with this data? What about if it is reason #2?\n",
    "\n",
    "How could you dig into the data to see which explanation is more plausible?\n",
    "\n",
    "Check out this **[discussion thread](https://www.kaggle.com/learn-forum/60581)** to see what others think or to add your ideas.\n",
    "\n",
    "# Keep Going\n",
    "\n",
    "You are ready for **[Your First Machine Learning Model](https://www.kaggle.com/dansbecker/your-first-machine-learning-model).**\n"
   ]
  },
  {
   "cell_type": "code",
   "execution_count": null,
   "id": "412abfaa",
   "metadata": {
    "papermill": {
     "duration": 0.002918,
     "end_time": "2025-07-13T00:35:29.392232",
     "exception": false,
     "start_time": "2025-07-13T00:35:29.389314",
     "status": "completed"
    },
    "tags": []
   },
   "outputs": [],
   "source": []
  },
  {
   "cell_type": "code",
   "execution_count": null,
   "id": "7a651be8",
   "metadata": {
    "papermill": {
     "duration": 0.002789,
     "end_time": "2025-07-13T00:35:29.398027",
     "exception": false,
     "start_time": "2025-07-13T00:35:29.395238",
     "status": "completed"
    },
    "tags": []
   },
   "outputs": [],
   "source": []
  },
  {
   "cell_type": "markdown",
   "id": "bf805c58",
   "metadata": {
    "papermill": {
     "duration": 0.002705,
     "end_time": "2025-07-13T00:35:29.403686",
     "exception": false,
     "start_time": "2025-07-13T00:35:29.400981",
     "status": "completed"
    },
    "tags": []
   },
   "source": [
    "---\n",
    "**[Machine Learning Course Home Page](https://www.kaggle.com/learn/machine-learning)**\n",
    "\n"
   ]
  }
 ],
 "metadata": {
  "kaggle": {
   "accelerator": "none",
   "dataSources": [
    {
     "datasetId": 2709,
     "sourceId": 38454,
     "sourceType": "datasetVersion"
    },
    {
     "datasetId": 108980,
     "sourceId": 260251,
     "sourceType": "datasetVersion"
    }
   ],
   "isGpuEnabled": false,
   "isInternetEnabled": false,
   "language": "python",
   "sourceType": "notebook"
  },
  "kernelspec": {
   "display_name": "Python 3",
   "language": "python",
   "name": "python3"
  },
  "language_info": {
   "codemirror_mode": {
    "name": "ipython",
    "version": 3
   },
   "file_extension": ".py",
   "mimetype": "text/x-python",
   "name": "python",
   "nbconvert_exporter": "python",
   "pygments_lexer": "ipython3",
   "version": "3.11.13"
  },
  "papermill": {
   "default_parameters": {},
   "duration": 7.160666,
   "end_time": "2025-07-13T00:35:29.927623",
   "environment_variables": {},
   "exception": null,
   "input_path": "__notebook__.ipynb",
   "output_path": "__notebook__.ipynb",
   "parameters": {},
   "start_time": "2025-07-13T00:35:22.766957",
   "version": "2.6.0"
  }
 },
 "nbformat": 4,
 "nbformat_minor": 5
}
